cuteTime": {
     "end_time": "2024-09-27T04:29:06.494425Z",
     "start_time": "2024-09-27T04:28:06.571638Z"
    },
    "collapsed": true
   },
   "outputs": [
    {
     "name": "stdout",
     "output_type": "stream",
     "text": [
      "Requirement already satisfied: torch in /home/iamsanko/anaconda3/lib/python3.11/site-packages (2.4.1)\r\n",
      "Requirement already satisfied: torchvision in /home/iamsanko/anaconda3/lib/python3.11/site-packages (0.19.1)\r\n",
      "Requirement already satisfied: efficientnet-pytorch in /home/iamsanko/anaconda3/lib/python3.11/site-packages (0.7.1)\r\n",
      "Requirement already satisfied
